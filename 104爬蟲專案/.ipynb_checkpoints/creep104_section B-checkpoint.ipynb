{
 "cells": [
  {
   "cell_type": "code",
   "execution_count": null,
   "metadata": {},
   "outputs": [],
   "source": [
    "import pandas as pd\n",
    "import requests\n",
    "from bs4 import BeautifulSoup\n",
    "from lxml import html"
   ]
  },
  {
   "cell_type": "code",
   "execution_count": null,
   "metadata": {},
   "outputs": [],
   "source": [
    "jobs = pd.read_excel(r\".商業分析師.xlsx\")"
   ]
  },
  {
   "cell_type": "code",
   "execution_count": null,
   "metadata": {},
   "outputs": [],
   "source": [
    "jobs"
   ]
  },
  {
   "cell_type": "code",
   "execution_count": null,
   "metadata": {},
   "outputs": [],
   "source": [
    "#修改list資料變成string，因為在excel中比較好處理\n",
    "def list2string(list_):\n",
    "    if type(list_) == str:\n",
    "        return list_\n",
    "    elif not list_:#空list\n",
    "        return \"\"\n",
    "    elif type(list_) == list:\n",
    "        try:\n",
    "            output = \",\".join(list_)\n",
    "        except:\n",
    "            output = \"\"\n",
    "        return output\n",
    "    else:\n",
    "        print(\"型態錯誤，非list&str, 回傳空白\")\n",
    "        return \"\""
   ]
  },
  {
   "cell_type": "code",
   "execution_count": null,
   "metadata": {},
   "outputs": [],
   "source": [
    "#從個別職缺的網頁中取得資料\n",
    "def get_data(url):\n",
    "    res = requests.get(url)\n",
    "    tree = html.fromstring(res.text)\n",
    "    data_dict = {}\n",
    "    title = tree.xpath(\"/html/body/div[2]/div/div[1]/div[2]/div/div/div[1]/h1\")\n",
    "    company = tree.xpath(\"/html/body/div[2]/div/div[1]/div[2]/div/div/div[1]/div/a[1]\")\n",
    "    work = tree.xpath(\"/html/body/div[2]/div/div[2]/div/div[1]/div[1]/div[2]/div[1]/p\")\n",
    "    title_category = []\n",
    "    title_category_e = tree.xpath(\"/html/body/div[2]/div/div[2]/div/div[1]/div[1]/div[2]/div[2]/div[2]/div/div//*/div/div/u\")\n",
    "    for index, n in enumerate(title_category_e):\n",
    "        title_category.append(n.text)\n",
    "\n",
    "    salary = tree.xpath(\"/html/body/div[2]/div/div[2]/div/div[1]/div[1]/div[2]/div[3]/div[2]/div/p\")\n",
    "    work_nature = tree.xpath(\"/html/body/div[2]/div/div[2]/div/div[1]/div[1]/div[2]/div[4]/div[2]/div\")\n",
    "    location = tree.xpath(\"/html/body/div[2]/div/div[2]/div/div[1]/div[1]/div[2]/div[5]/div[2]/div/div/span[1]\")\n",
    "    responsibility = tree.xpath(\"/html/body/div[2]/div/div[2]/div/div[1]/div[1]/div[2]/div[7]/div[2]/div\")\n",
    "    business_trip = tree.xpath(\"/html/body/div[2]/div/div[2]/div/div[1]/div[1]/div[2]/div[8]/div[2]/div\")\n",
    "    worktime = tree.xpath(\"/html/body/div[2]/div/div[2]/div/div[1]/div[1]/div[2]/div[9]/div[2]/div\")\n",
    "    weekend = tree.xpath(\"/html/body/div[2]/div/div[2]/div/div[1]/div[1]/div[2]/div[10]/div[2]/div\")\n",
    "    registration_date = tree.xpath(\"/html/body/div[2]/div/div[2]/div/div[1]/div[1]/div[2]/div[11]/div[2]/div\")\n",
    "    people_needed = tree.xpath(\"/html/body/div[2]/div/div[2]/div/div[1]/div[1]/div[2]/div[12]/div[2]/div\")\n",
    "    \n",
    "    \n",
    "    data_dict[\"職務名稱\"] = title[0].text\n",
    "    #data_dict[\"公司名稱\"] = company[0].text #上面好像有了\n",
    "    data_dict[\"工作內容\"] = work[0].text\n",
    "    data_dict[\"職務類別\"] = list2string(title_category)\n",
    "    data_dict[\"工作待遇\"] = salary[0].text\n",
    "    data_dict[\"工作性質\"] = work_nature[0].text\n",
    "    data_dict[\"工作地點\"] = location[0].text\n",
    "    data_dict[\"管理責任\"] = responsibility[0].text\n",
    "    data_dict[\"出差外派\"] = business_trip[0].text\n",
    "    data_dict[\"上班時段\"] = worktime[0].text\n",
    "    data_dict[\"休假時段\"] = weekend[0].text\n",
    "    data_dict[\"可上班日\"] = registration_date[0].text\n",
    "    data_dict[\"需求人數\"] = people_needed[0].text\n",
    "    \n",
    "    #條件要求\n",
    "    work_exp = tree.xpath(\"/html/body/div[2]/div/div[2]/div/div[1]/div[2]/div[2]/div[1]/div[2]/div\")\n",
    "    degree = tree.xpath(\"/html/body/div[2]/div/div[2]/div/div[1]/div[2]/div[2]/div[2]/div[2]/div\")\n",
    "    major = tree.xpath(\"/html/body/div[2]/div/div[2]/div/div[1]/div[2]/div[2]/div[3]/div[2]/div\")\n",
    "    language = tree.xpath(\"/html/body/div[2]/div/div[2]/div/div[1]/div[2]/div[2]/div[4]/div[2]/div/p\")\n",
    "    if not language[0].text: #代表並非\"不拘\"\n",
    "        language_set = []\n",
    "        language_set_e = tree.xpath(\"/html/body/div[2]/div/div[2]/div/div[1]/div[2]/div[2]/div[4]/div[2]/div//*/a/u\")\n",
    "        for n in language_set_e:\n",
    "            language_set.append(n.text)\n",
    "    else:\n",
    "        language_set = \"不拘\"\n",
    "    \n",
    "    skillset = []\n",
    "    skillset_e = tree.xpath(\"/html/body/div[2]/div/div[2]/div/div[1]/div[2]/div[2]/div[5]/div[2]/div//*/a/u\")\n",
    "    for index,n in enumerate(skillset_e):\n",
    "        if n.text:\n",
    "            skillset.append(n.text.replace(\"\\u200b\", \"\"))\n",
    "    work_skill = []\n",
    "    work_skill_e = tree.xpath(\"/html/body/div[2]/div/div[2]/div/div[1]/div[2]/div[2]/div[6]/div[2]/div//*/a/u\")\n",
    "    for index, n in enumerate(work_skill_e):\n",
    "        if n.text:\n",
    "            work_skill.append(n.text)\n",
    "    other_requirements = tree.xpath(\"/html/body/div[2]/div/div[2]/div/div[1]/div[2]/div[3]/div/div[2]/div/div/p\")\n",
    "\n",
    "    data_dict[\"工作經歷\"] = work_exp[0].text\n",
    "    data_dict[\"學歷要求\"] = degree[0].text\n",
    "    data_dict[\"科系要求\"] = major[0].text\n",
    "    data_dict[\"語文條件\"] = list2string(language_set)\n",
    "    data_dict[\"擅長工具\"] = list2string(skillset)\n",
    "    data_dict[\"工作技能\"] = list2string(work_skill)\n",
    "    data_dict[\"其他條件\"] = other_requirements[0].text\n",
    "    \n",
    "    #福利相關\n",
    "    benefit_intro = tree.xpath(\"/html/body/div[2]/div/div[2]/div/div[1]/div[4]/div[2]/div/p\")#div2\n",
    "    legal_benefit = []\n",
    "    legal_benefit_e = tree.xpath(\"/html/body/div[2]/div/div[2]/div/div[1]/div[4]/div[3]/div//*/a\")#div3\n",
    "    for index, n in enumerate(legal_benefit_e):\n",
    "        legal_benefit.append(n.text)\n",
    "    other_benefit = []\n",
    "    other_benefit_e = tree.xpath(\"/html/body/div[2]/div/div[2]/div/div[1]/div[4]/div[5]/div//*/a\")#div5\n",
    "    for index, n in enumerate(other_benefit_e):\n",
    "        other_benefit.append(n.text)\n",
    "    recruit_incentives = tree.xpath(\"/html/body/div[2]/div/div[2]/div/div[1]/div[4]/div[6]/div/p\")#div6\n",
    "    \n",
    "    if benefit_intro:\n",
    "        data_dict[\"福利介紹\"] = benefit_intro[0].text\n",
    "    data_dict[\"法定福利\"] = list2string(legal_benefit)\n",
    "    data_dict[\"其他福利\"] = list2string(other_benefit)\n",
    "    if recruit_incentives:\n",
    "        data_dict[\"招募福利\"] = recruit_incentives[0].text\n",
    "        \n",
    "    return data_dict\n"
   ]
  },
  {
   "cell_type": "code",
   "execution_count": null,
   "metadata": {
    "scrolled": true
   },
   "outputs": [],
   "source": [
    "#爬取所有頁面的資料\n",
    "data = []\n",
    "for i in range(jobs.shape[0]):\n",
    "    company = jobs[\"公司名稱\"].iloc[i]\n",
    "    job = jobs[\"職缺名稱\"].iloc[i]\n",
    "    url = jobs[\"職缺連結\"].iloc[i]\n",
    "    dict_data_jobs = {\n",
    "        \"公司名稱\" : company,\n",
    "        \"職缺名稱\" : job,\n",
    "        \"職缺連結\" : url\n",
    "    }\n",
    "    try:\n",
    "        job_data = get_data(url)\n",
    "        job_data = {**dict_data_jobs, **job_data}\n",
    "        data.append(job_data)\n",
    "        print(i)\n",
    "    except:\n",
    "        continue\n",
    "    if i ==200:\n",
    "        break"
   ]
  },
  {
   "cell_type": "code",
   "execution_count": null,
   "metadata": {},
   "outputs": [],
   "source": [
    "df = pd.DataFrame(columns = data[0].keys(), data = data)\n",
    "path = \"your_path.xlsx\"\n",
    "df.to_excel(path, index = False)"
   ]
  }
 ],
 "metadata": {
  "kernelspec": {
   "display_name": "Python 3",
   "language": "python",
   "name": "python3"
  },
  "language_info": {
   "codemirror_mode": {
    "name": "ipython",
    "version": 3
   },
   "file_extension": ".py",
   "mimetype": "text/x-python",
   "name": "python",
   "nbconvert_exporter": "python",
   "pygments_lexer": "ipython3",
   "version": "3.7.4"
  }
 },
 "nbformat": 4,
 "nbformat_minor": 2
}
